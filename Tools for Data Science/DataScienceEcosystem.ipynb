{
  "cells": [
    {
      "cell_type": "markdown",
      "metadata": {
        "id": "OzYSjX6vefpm"
      },
      "source": [
        "<center>\n",
        "    <img src=\"https://cf-courses-data.s3.us.cloud-object-storage.appdomain.cloud/IBMDeveloperSkillsNetwork-DS0105EN-SkillsNetwork/labs/Module2/images/SN_web_lightmode.png\" width=\"300\" alt=\"cognitiveclass.ai logo\">\n",
        "</center>\n"
      ]
    },
    {
      "cell_type": "markdown",
      "metadata": {
        "id": "mO7SodGrefpp"
      },
      "source": [
        "#### Add your code below following the instructions given in the course\n"
      ]
    },
    {
      "cell_type": "markdown",
      "source": [
        "#Data Science Tools and Ecosystem"
      ],
      "metadata": {
        "id": "PEvx968egc8k"
      }
    },
    {
      "cell_type": "markdown",
      "source": [
        "In this notebook, Data Science Tools and Ecosystem are summarized."
      ],
      "metadata": {
        "id": "6k09CDsohMX1"
      }
    },
    {
      "cell_type": "markdown",
      "source": [
        "**Objectives**\n",
        "\n",
        "* List popular languages that Data Scientists use.\n",
        "* List commonly used libraries used by Data Scientists.\n",
        "* Comment on Data Science tools."
      ],
      "metadata": {
        "id": "MsFuwrgdqmor"
      }
    },
    {
      "cell_type": "markdown",
      "source": [
        "Some of the popular languages that Data Scientists use are:"
      ],
      "metadata": {
        "id": "8tD6z5XyhU_L"
      }
    },
    {
      "cell_type": "markdown",
      "source": [
        "\n",
        "\n",
        "1.   Python\n",
        "2.   R\n",
        "3.   SQL\n",
        "4.   Java\n",
        "5.   C/C++\n",
        "6.   Julia\n",
        "7.   Scala\n"
      ],
      "metadata": {
        "id": "lXUpSlzThedl"
      }
    },
    {
      "cell_type": "markdown",
      "source": [
        "Some of the commonly used libraries used by Data Scientists include:\n",
        "\n",
        "\n",
        "\n",
        "1. TensorFlow\n",
        "2. Numpy\n",
        "3. SciPy\n",
        "4. Pandas\n",
        "5. MatplotLib\n",
        "6. Keras\n",
        "7. SciKit-Learn\n",
        "8. PyTorch\n",
        "\n",
        "\n"
      ],
      "metadata": {
        "id": "FhC4oRZtip6W"
      }
    },
    {
      "cell_type": "markdown",
      "source": [
        "Data Science Tools"
      ],
      "metadata": {
        "id": "1ShoPtu8jQDj"
      }
    },
    {
      "cell_type": "markdown",
      "source": [
        "| Data Science Tools |\n",
        "| --- |\n",
        "| SAS |\n",
        "| Apache Spark |\n",
        "| BigML |"
      ],
      "metadata": {
        "id": "LEH3C3EXoV4s"
      }
    },
    {
      "cell_type": "markdown",
      "source": [
        "###Below are a few examples of evaluating arithmetic expressions in Python"
      ],
      "metadata": {
        "id": "esKEnWkUpC2X"
      }
    },
    {
      "cell_type": "code",
      "source": [
        "#This a simple arithmetic expression to mutiply then add integers\n",
        "mul_add = (3*4)+5\n",
        "print(mul_add)\n",
        "print(mul_add == 17)"
      ],
      "metadata": {
        "colab": {
          "base_uri": "https://localhost:8080/"
        },
        "id": "KF58krGSj-_r",
        "outputId": "8f68c089-0501-4d79-e9dd-fe864a09f45b"
      },
      "execution_count": 2,
      "outputs": [
        {
          "output_type": "stream",
          "name": "stdout",
          "text": [
            "17\n",
            "True\n"
          ]
        }
      ]
    },
    {
      "cell_type": "code",
      "source": [
        "#This will convert 200 minutes to hours by diving by 60\n",
        "min_to_hr= 200 / 60\n",
        "print(min_to_hr)"
      ],
      "metadata": {
        "colab": {
          "base_uri": "https://localhost:8080/"
        },
        "id": "VKkjiJTfhd6A",
        "outputId": "949c8473-45bd-4e3a-9c52-b9a9801d10a5"
      },
      "execution_count": 4,
      "outputs": [
        {
          "output_type": "stream",
          "name": "stdout",
          "text": [
            "3.3333333333333335\n"
          ]
        }
      ]
    },
    {
      "cell_type": "markdown",
      "source": [
        "##Author\n",
        "\n",
        "Hizana Nasreen E S"
      ],
      "metadata": {
        "id": "fs36bwp1qBgo"
      }
    },
    {
      "cell_type": "code",
      "execution_count": null,
      "metadata": {
        "id": "0__7i0Uaefpq"
      },
      "outputs": [],
      "source": []
    }
  ],
  "metadata": {
    "kernelspec": {
      "display_name": "Python",
      "language": "python",
      "name": "conda-env-python-py"
    },
    "language_info": {
      "name": ""
    },
    "colab": {
      "provenance": []
    }
  },
  "nbformat": 4,
  "nbformat_minor": 0
}